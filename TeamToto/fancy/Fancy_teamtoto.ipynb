{
 "cells": [
  {
   "cell_type": "code",
   "execution_count": 1,
   "metadata": {},
   "outputs": [
    {
     "name": "stdout",
     "output_type": "stream",
     "text": [
      "     Name  Number of Assignments  Years with Chevron\n",
      "0  Ganesh                      5                  20\n",
      "1     Max                      1                   1\n",
      "2   Jenee                      2                   3\n",
      "3  Sandra                      3                  12\n",
      "4   Emily                      5                  14\n",
      "5  Liping                      5                  21\n"
     ]
    }
   ],
   "source": [
    "# creation of DataFrame\n",
    " \n",
    "import pandas as pd\n",
    "import numpy as np\n",
    " \n",
    "#Create a Dictionary    \n",
    "d = {'Name':['Ganesh','Max','Jenee','Sandra','Emily','Liping'],\n",
    "     'Years with Chevron':[20,1,3,12,14,21],\n",
    "     'Number of Assignments':[5,1,2,3,5,5]}  \n",
    "    \n",
    "#Create a DataFrame\n",
    "df = pd.DataFrame(d)\n",
    "print(df)"
   ]
  },
  {
   "cell_type": "code",
   "execution_count": 2,
   "metadata": {},
   "outputs": [
    {
     "name": "stdout",
     "output_type": "stream",
     "text": [
      "       Number of Assignments  Years with Chevron\n",
      "count               6.000000            6.000000\n",
      "mean                3.500000           11.833333\n",
      "std                 1.760682            8.376555\n",
      "min                 1.000000            1.000000\n",
      "25%                 2.250000            5.250000\n",
      "50%                 4.000000           13.000000\n",
      "75%                 5.000000           18.500000\n",
      "max                 5.000000           21.000000\n"
     ]
    }
   ],
   "source": [
    "# summary statistics\n",
    " \n",
    "print(df.describe())"
   ]
  },
  {
   "cell_type": "code",
   "execution_count": 3,
   "metadata": {},
   "outputs": [
    {
     "name": "stdout",
     "output_type": "stream",
     "text": [
      "          Name  Number of Assignments  Years with Chevron\n",
      "count        6               6.000000            6.000000\n",
      "unique       6                    NaN                 NaN\n",
      "top     Sandra                    NaN                 NaN\n",
      "freq         1                    NaN                 NaN\n",
      "mean       NaN               3.500000           11.833333\n",
      "std        NaN               1.760682            8.376555\n",
      "min        NaN               1.000000            1.000000\n",
      "25%        NaN               2.250000            5.250000\n",
      "50%        NaN               4.000000           13.000000\n",
      "75%        NaN               5.000000           18.500000\n",
      "max        NaN               5.000000           21.000000\n"
     ]
    }
   ],
   "source": [
    "# summary statistics of character column\n",
    " \n",
    "print(df.describe(include='all'))"
   ]
  },
  {
   "cell_type": "code",
   "execution_count": 4,
   "metadata": {},
   "outputs": [
    {
     "data": {
      "text/plain": [
       "6"
      ]
     },
     "execution_count": 4,
     "metadata": {},
     "output_type": "execute_result"
    }
   ],
   "source": [
    "#count number of Name entries in list\n",
    "len(d['Name'])"
   ]
  },
  {
   "cell_type": "code",
   "execution_count": 5,
   "metadata": {},
   "outputs": [
    {
     "data": {
      "text/plain": [
       "3"
      ]
     },
     "execution_count": 5,
     "metadata": {},
     "output_type": "execute_result"
    }
   ],
   "source": [
    "#count number of columns in d\n",
    "len(d)"
   ]
  },
  {
   "cell_type": "code",
   "execution_count": 6,
   "metadata": {},
   "outputs": [],
   "source": [
    "#add column to d\n",
    "d['Number of Pets']=[2,0,0,0,1,1]"
   ]
  },
  {
   "cell_type": "code",
   "execution_count": 7,
   "metadata": {},
   "outputs": [
    {
     "data": {
      "text/plain": [
       "4"
      ]
     },
     "execution_count": 7,
     "metadata": {},
     "output_type": "execute_result"
    }
   ],
   "source": [
    "#count number of columns in d\n",
    "len(d)"
   ]
  },
  {
   "cell_type": "code",
   "execution_count": 8,
   "metadata": {},
   "outputs": [
    {
     "name": "stdout",
     "output_type": "stream",
     "text": [
      "The total number of pets on our team is 4\n",
      "The total number of pets on our team is 4\n"
     ]
    }
   ],
   "source": [
    "#count total number of pets our team owns\n",
    "sum_pets=0\n",
    "for pet in d['Number of Pets']:\n",
    "    sum_pets+=pet    #  same as  sum_pets=sum_pets+pet\n",
    "    \n",
    "print('The total number of pets on our team is '+str(sum_pets))\n",
    "\n",
    "#another way to write this:\n",
    "print(f'The total number of pets on our team is {sum_pets}')  "
   ]
  },
  {
   "cell_type": "code",
   "execution_count": null,
   "metadata": {},
   "outputs": [],
   "source": []
  },
  {
   "cell_type": "code",
   "execution_count": null,
   "metadata": {},
   "outputs": [],
   "source": []
  }
 ],
 "metadata": {
  "kernelspec": {
   "display_name": "Python 3",
   "language": "python",
   "name": "python3"
  },
  "language_info": {
   "codemirror_mode": {
    "name": "ipython",
    "version": 3
   },
   "file_extension": ".py",
   "mimetype": "text/x-python",
   "name": "python",
   "nbconvert_exporter": "python",
   "pygments_lexer": "ipython3",
   "version": "3.6.4"
  }
 },
 "nbformat": 4,
 "nbformat_minor": 2
}
