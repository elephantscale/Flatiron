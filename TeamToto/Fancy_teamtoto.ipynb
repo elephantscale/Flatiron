{
 "cells": [
  {
   "cell_type": "code",
   "execution_count": 38,
   "metadata": {},
   "outputs": [
    {
     "name": "stdout",
     "output_type": "stream",
     "text": [
      "     Name  Years with Chevron  Number of Assignments\n",
      "0  Ganesh                  20                      5\n",
      "1     Max                   1                      1\n",
      "2   Jenee                   3                      2\n",
      "3  Sandra                  12                      3\n",
      "4   Emily                  14                      5\n",
      "5  Liping                  21                      5\n"
     ]
    }
   ],
   "source": [
    "# creation of DataFrame\n",
    " \n",
    "import pandas as pd\n",
    "import numpy as np\n",
    " \n",
    "#Create a Dictionary    \n",
    "d = {'Name':['Ganesh','Max','Jenee','Sandra','Emily','Liping'],\n",
    "     'Years with Chevron':[20,1,3,12,14,21],\n",
    "     'Number of Assignments':[5,1,2,3,5,5]}  \n",
    "    \n",
    "#Create a DataFrame\n",
    "df = pd.DataFrame(d)\n",
    "print(df)"
   ]
  },
  {
   "cell_type": "code",
   "execution_count": 39,
   "metadata": {},
   "outputs": [
    {
     "name": "stdout",
     "output_type": "stream",
     "text": [
      "       Years with Chevron  Number of Assignments\n",
      "count            6.000000               6.000000\n",
      "mean            11.833333               3.500000\n",
      "std              8.376555               1.760682\n",
      "min              1.000000               1.000000\n",
      "25%              5.250000               2.250000\n",
      "50%             13.000000               4.000000\n",
      "75%             18.500000               5.000000\n",
      "max             21.000000               5.000000\n"
     ]
    }
   ],
   "source": [
    "# summary statistics\n",
    " \n",
    "print(df.describe())"
   ]
  },
  {
   "cell_type": "code",
   "execution_count": 40,
   "metadata": {},
   "outputs": [
    {
     "name": "stdout",
     "output_type": "stream",
     "text": [
      "          Name  Years with Chevron  Number of Assignments\n",
      "count        6            6.000000               6.000000\n",
      "unique       6                 NaN                    NaN\n",
      "top     Ganesh                 NaN                    NaN\n",
      "freq         1                 NaN                    NaN\n",
      "mean       NaN           11.833333               3.500000\n",
      "std        NaN            8.376555               1.760682\n",
      "min        NaN            1.000000               1.000000\n",
      "25%        NaN            5.250000               2.250000\n",
      "50%        NaN           13.000000               4.000000\n",
      "75%        NaN           18.500000               5.000000\n",
      "max        NaN           21.000000               5.000000\n"
     ]
    }
   ],
   "source": [
    "# summary statistics of character column\n",
    " \n",
    "print(df.describe(include='all'))"
   ]
  },
  {
   "cell_type": "code",
   "execution_count": 41,
   "metadata": {},
   "outputs": [
    {
     "data": {
      "text/plain": [
       "6"
      ]
     },
     "execution_count": 41,
     "metadata": {},
     "output_type": "execute_result"
    }
   ],
   "source": [
    "#count number of Name entries in list\n",
    "len(d['Name'])"
   ]
  },
  {
   "cell_type": "code",
   "execution_count": 42,
   "metadata": {},
   "outputs": [
    {
     "data": {
      "text/plain": [
       "3"
      ]
     },
     "execution_count": 42,
     "metadata": {},
     "output_type": "execute_result"
    }
   ],
   "source": [
    "#count number of columns in d\n",
    "len(d)"
   ]
  },
  {
   "cell_type": "code",
   "execution_count": 43,
   "metadata": {},
   "outputs": [],
   "source": [
    "#add column to d\n",
    "d['Number of Pets']=[2,0,0,0,1,1]"
   ]
  },
  {
   "cell_type": "code",
   "execution_count": 44,
   "metadata": {},
   "outputs": [
    {
     "data": {
      "text/plain": [
       "4"
      ]
     },
     "execution_count": 44,
     "metadata": {},
     "output_type": "execute_result"
    }
   ],
   "source": [
    "#count number of columns in d\n",
    "len(d)"
   ]
  },
  {
   "cell_type": "code",
   "execution_count": 51,
   "metadata": {},
   "outputs": [
    {
     "name": "stdout",
     "output_type": "stream",
     "text": [
      "The total number of pets on our team is 4\n",
      "The total number of pets on our team is 4\n"
     ]
    }
   ],
   "source": [
    "#count total number of pets our team owns\n",
    "sum_pets=0\n",
    "for pet in d['Number of Pets']:\n",
    "    sum_pets+=pet    #  same as  sum_pets=sum_pets+pet\n",
    "    \n",
    "print('The total number of pets on our team is '+str(sum_pets))\n",
    "\n",
    "#another way to write this:\n",
    "print(f'The total number of pets on our team is {sum_pets}')  "
   ]
  },
  {
   "cell_type": "code",
   "execution_count": null,
   "metadata": {},
   "outputs": [],
   "source": []
  }
 ],
 "metadata": {
  "kernelspec": {
   "display_name": "Python 3",
   "language": "python",
   "name": "python3"
  },
  "language_info": {
   "codemirror_mode": {
    "name": "ipython",
    "version": 3
   },
   "file_extension": ".py",
   "mimetype": "text/x-python",
   "name": "python",
   "nbconvert_exporter": "python",
   "pygments_lexer": "ipython3",
   "version": "3.6.5"
  }
 },
 "nbformat": 4,
 "nbformat_minor": 2
}
