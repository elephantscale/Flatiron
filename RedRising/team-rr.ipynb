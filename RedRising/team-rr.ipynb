{
 "cells": [
  {
   "cell_type": "markdown",
   "metadata": {},
   "source": [
    "**List:**\n",
    "- Name\n",
    "- Title\n",
    "- Service Year (calc years of service)\n",
    "- Job move next 18 months?\n",
    "- Organization\n",
    "- Interests (list)\n",
    "- Job History (list)"
   ]
  },
  {
   "cell_type": "code",
   "execution_count": 1,
   "metadata": {},
   "outputs": [],
   "source": [
    "mike = {\n",
    "    \"Name\": \"Michael\",\n",
    "    \"Title\": \"Site Reliability Engineer\",\n",
    "    \"Service Year\": 2010,\n",
    "    \"Job Move\": False,\n",
    "    \"Organization\": \"ITC-ITSD-NA\",\n",
    "    \"Interests\": [ \"Cycling\", \"Home Lab\" ],\n",
    "    \"Job History\": [\n",
    "        \"Process Analyst\",\n",
    "        \"Security & Access Management Analyst\"\n",
    "    ]\n",
    "}"
   ]
  },
  {
   "cell_type": "code",
   "execution_count": 2,
   "metadata": {},
   "outputs": [],
   "source": [
    "eric = [\"Eric\", \"Digital Advisor\", 1990, False, 'ETC', [\"Hiking\", \"Reading\"], [\"Application Team Lead\", \"Solution Architect\", \"Software Engineer\"]]"
   ]
  },
  {
   "cell_type": "code",
   "execution_count": 3,
   "metadata": {},
   "outputs": [],
   "source": [
    "monty = ['Monty','Data Engineer',2012,False,'ITC',['Umpire Baseball','Referee Football','Woodworking'],['Database Consultant','Data Architect','SCADA Specialist','Systems Engineer','Anti-Money Laundering Consultant']]"
   ]
  },
  {
   "cell_type": "code",
   "execution_count": 4,
   "metadata": {},
   "outputs": [],
   "source": [
    "nick = ['Nick','Network Security Operations Engineer',2008,False,'ITC',['Gaming','Movies','Technology'],['Mobility Analyst','Business Analyst','Windows Server Analyst']]"
   ]
  },
  {
   "cell_type": "code",
   "execution_count": 5,
   "metadata": {},
   "outputs": [],
   "source": [
    "satish = ['Satish','IRM Coordinator',2007,True,'ITC',['DJing','Data Engineering'],['Tech Team Lead','IT Analyst']]"
   ]
  },
  {
   "cell_type": "code",
   "execution_count": 6,
   "metadata": {},
   "outputs": [],
   "source": [
    "Jay_dict= {'name': 'Jay', 'Title': 'EA, Data Science and Analytics', 'Service': 2006, 'Job Move': True, 'Org': 'TSS', 'Interest': ['Coffee'], 'JobHistory': ['IAM', 'SAPM', 'S&T', 'TSS Architecture']}"
   ]
  },
  {
   "cell_type": "code",
   "execution_count": 7,
   "metadata": {},
   "outputs": [],
   "source": [
    "brian = ['Brian', 'Data Engineer', 2009, False, 'ITC', ['Antiques', 'Birding'], ['SCADA Communications', 'Data Engineer']]"
   ]
  },
  {
   "cell_type": "code",
   "execution_count": 8,
   "metadata": {},
   "outputs": [],
   "source": [
    "students = [ list(mike.values()) , eric , monty , nick , brian , satish , list(Jay_dict.values()) ]"
   ]
  },
  {
   "cell_type": "code",
   "execution_count": 9,
   "metadata": {},
   "outputs": [],
   "source": [
    "students_list = []\n",
    "for student in students:\n",
    "    \n",
    "    stdict = {}\n",
    "    stdict = { \"Name\": student[0],\n",
    "                \"Title\": student[1],\n",
    "                \"Service Year\": student[2],\n",
    "                \"Years of Service\": 2019 - int(student[2]),\n",
    "                \"Job Move\": bool(student[3]),\n",
    "                \"Org\": student[4],\n",
    "                \"Interests\": student[5],\n",
    "                \"Job History\": student[6]\n",
    "        }\n",
    "    students_list.append(stdict)\n"
   ]
  },
  {
   "cell_type": "code",
   "execution_count": 10,
   "metadata": {},
   "outputs": [
    {
     "name": "stdout",
     "output_type": "stream",
     "text": [
      "Michael - Site Reliability Engineer in ITC-ITSD-NA\n",
      "\t9 years of service\n",
      "\tPrevious Jobs:\n",
      "\t\tProcess Analyst\n",
      "\t\tSecurity & Access Management Analyst\n",
      "\tInterests:\n",
      "\t\tCycling\n",
      "\t\tHome Lab\n",
      "Eric - Digital Advisor in ETC\n",
      "\t29 years of service\n",
      "\tPrevious Jobs:\n",
      "\t\tApplication Team Lead\n",
      "\t\tSolution Architect\n",
      "\t\tSoftware Engineer\n",
      "\tInterests:\n",
      "\t\tHiking\n",
      "\t\tReading\n",
      "Monty - Data Engineer in ITC\n",
      "\t7 years of service\n",
      "\tPrevious Jobs:\n",
      "\t\tDatabase Consultant\n",
      "\t\tData Architect\n",
      "\t\tSCADA Specialist\n",
      "\t\tSystems Engineer\n",
      "\t\tAnti-Money Laundering Consultant\n",
      "\tInterests:\n",
      "\t\tUmpire Baseball\n",
      "\t\tReferee Football\n",
      "\t\tWoodworking\n",
      "Nick - Network Security Operations Engineer in ITC\n",
      "\t11 years of service\n",
      "\tPrevious Jobs:\n",
      "\t\tMobility Analyst\n",
      "\t\tBusiness Analyst\n",
      "\t\tWindows Server Analyst\n",
      "\tInterests:\n",
      "\t\tGaming\n",
      "\t\tMovies\n",
      "\t\tTechnology\n",
      "Brian - Data Engineer in ITC\n",
      "\t10 years of service\n",
      "\tPrevious Jobs:\n",
      "\t\tSCADA Communications\n",
      "\t\tData Engineer\n",
      "\tInterests:\n",
      "\t\tAntiques\n",
      "\t\tBirding\n",
      "Satish - Irm Coordinator in ITC\n",
      "\t12 years of service\n",
      "\tPlans to move jobs within 18 months\n",
      "\tPrevious Jobs:\n",
      "\t\tTech Team Lead\n",
      "\t\tIT Analyst\n",
      "\tInterests:\n",
      "\t\tDJing\n",
      "\t\tData Engineering\n",
      "Jay - Ea, Data Science And Analytics in TSS\n",
      "\t13 years of service\n",
      "\tPlans to move jobs within 18 months\n",
      "\tPrevious Jobs:\n",
      "\t\tIAM\n",
      "\t\tSAPM\n",
      "\t\tS&T\n",
      "\t\tTSS Architecture\n",
      "\tInterests:\n",
      "\t\tCoffee\n"
     ]
    }
   ],
   "source": [
    "for student in students_list:\n",
    "    print(student['Name'].title() + ' - ' + student['Title'].title() + ' in ' + student['Org']) \n",
    "    print('\\t' + str(2019 - int(student['Service Year'])) + ' years of service')\n",
    "    if(bool(student['Job Move'])):\n",
    "        print('\\tPlans to move jobs within 18 months')\n",
    "    print('\\t' + 'Previous Jobs:')\n",
    "    for job in student['Job History']:\n",
    "        print('\\t\\t' + job)\n",
    "    print('\\t' + 'Interests:')\n",
    "    for interest in student['Interests']:\n",
    "        print('\\t\\t' + interest)\n"
   ]
  },
  {
   "cell_type": "code",
   "execution_count": 11,
   "metadata": {},
   "outputs": [],
   "source": [
    "import pandas as pd\n",
    "students_df = pd.DataFrame(data=students_list)"
   ]
  },
  {
   "cell_type": "code",
   "execution_count": 13,
   "metadata": {},
   "outputs": [
    {
     "name": "stdout",
     "output_type": "stream",
     "text": [
      " Average years of serivce: 13.0\n"
     ]
    },
    {
     "data": {
      "text/plain": [
       "<matplotlib.axes._subplots.AxesSubplot at 0x11601e7b8>"
      ]
     },
     "execution_count": 13,
     "metadata": {},
     "output_type": "execute_result"
    },
    {
     "data": {
      "image/png": "[encoded data removed]",
      "text/plain": [
       "<matplotlib.figure.Figure at 0x1160095c0>"
      ]
     },
     "metadata": {},
     "output_type": "display_data"
    }
   ],
   "source": [
    "\n",
    "print(' Average years of serivce: ' + str(students_df['Years of Service'].mean()))\n",
    "students_df['Years of Service'].hist()\n"
   ]
  },
  {
   "cell_type": "code",
   "execution_count": null,
   "metadata": {},
   "outputs": [],
   "source": []
  },
  {
   "cell_type": "code",
   "execution_count": null,
   "metadata": {},
   "outputs": [],
   "source": []
  }
 ],
 "metadata": {
  "file_extension": ".py",
  "kernelspec": {
   "display_name": "Python 3",
   "language": "python",
   "name": "python3"
  },
  "language_info": {
   "codemirror_mode": {
    "name": "ipython",
    "version": 3
   },
   "file_extension": ".py",
   "mimetype": "text/x-python",
   "name": "python",
   "nbconvert_exporter": "python",
   "pygments_lexer": "ipython3",
   "version": "3.6.4"
  },
  "mimetype": "text/x-python",
  "name": "python",
  "npconvert_exporter": "python",
  "pygments_lexer": "ipython3",
  "version": 3
 },
 "nbformat": 4,
 "nbformat_minor": 2
}
